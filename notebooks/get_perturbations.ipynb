{
  "nbformat": 4,
  "nbformat_minor": 0,
  "metadata": {
    "colab": {
      "provenance": [],
      "toc_visible": true
    },
    "kernelspec": {
      "name": "python3",
      "display_name": "Python 3"
    },
    "language_info": {
      "name": "python"
    }
  },
  "cells": [
    {
      "cell_type": "markdown",
      "source": [
        "# Apply Perturbations"
      ],
      "metadata": {
        "id": "L_VnDI8zvdFx"
      }
    },
    {
      "cell_type": "code",
      "execution_count": 1,
      "metadata": {
        "id": "3PwFJc4-jCBj"
      },
      "outputs": [],
      "source": [
        "import random\n",
        "import pandas as pd\n",
        "import re\n",
        "import string"
      ]
    },
    {
      "cell_type": "code",
      "source": [
        "# Run load_dataset.py for this data\n",
        "df = pd.read_json(\"sensitivity.json\")"
      ],
      "metadata": {
        "id": "IR-8y3j5plu-"
      },
      "execution_count": 2,
      "outputs": []
    },
    {
      "cell_type": "markdown",
      "source": [
        "## Toggle quantifier"
      ],
      "metadata": {
        "id": "B2T8npFaykmv"
      }
    },
    {
      "cell_type": "code",
      "source": [
        "def toggle_quantifier(formula):\n",
        "    # The negation symbol to look for\n",
        "    all_symbol = \"∀\"\n",
        "    every_symbol = \"∃\"\n",
        "\n",
        "    # Check if the formula starts with the negation symbol\n",
        "    if all_symbol in formula:\n",
        "        return formula.replace(all_symbol, every_symbol)\n",
        "    else:\n",
        "        return formula.replace(every_symbol, all_symbol)\n",
        "\n",
        "# swap quantifiers if they are available\n",
        "df['quantifier'] = df['premisesFOL'].apply(toggle_quantifier)"
      ],
      "metadata": {
        "id": "t35Rwouuvle6"
      },
      "execution_count": 3,
      "outputs": []
    },
    {
      "cell_type": "markdown",
      "source": [
        "## Remove Negations"
      ],
      "metadata": {
        "id": "uV-kw83kvTDk"
      }
    },
    {
      "cell_type": "code",
      "source": [
        "def toggle_negation(formula):\n",
        "    # Define regex patterns for detecting negation\n",
        "    negation_pattern = '¬'\n",
        "\n",
        "    if negation_pattern in formula:\n",
        "        formula = formula.replace(negation_pattern, '!')\n",
        "\n",
        "    pred_pattern = r'\\b[A-Za-z][A-Za-z0-9]*\\([^()]*\\)'\n",
        "\n",
        "    def add_negation(match):\n",
        "        return '¬' + match.group(0)\n",
        "\n",
        "    # Substitute the match with the negated match\n",
        "    modified_sentence = re.sub(pred_pattern, add_negation, formula)\n",
        "    final = modified_sentence.replace('!¬','').replace('!(¬','(').replace('!','')\n",
        "\n",
        "    return final\n",
        "\n",
        "# remove negation if available\n",
        "df['negation'] = df['premisesFOL'].apply(toggle_negation)"
      ],
      "metadata": {
        "id": "BW7StRZlVJXl"
      },
      "execution_count": 4,
      "outputs": []
    },
    {
      "cell_type": "markdown",
      "source": [
        "## Toggle Operators"
      ],
      "metadata": {
        "id": "S91pbCxMF1b5"
      }
    },
    {
      "cell_type": "code",
      "source": [
        "def toggle_operators(formula):\n",
        "    # The negation symbol to look for\n",
        "    and_symbol = \"∧\"\n",
        "    or_symbol = \"∨\"\n",
        "\n",
        "    if and_symbol in formula and or_symbol in formula:\n",
        "      return formula.replace(and_symbol, ';').replace(or_symbol, and_symbol).replace(';',or_symbol)\n",
        "\n",
        "    elif and_symbol in formula:\n",
        "      return formula.replace(and_symbol, or_symbol)\n",
        "    elif or_symbol in formula:\n",
        "      return formula.replace(or_symbol, and_symbol)\n",
        "    else:\n",
        "      return formula\n",
        "\n",
        "# Swap and and or symbold where available\n",
        "df['AndOr'] = df['premisesFOL'].apply(toggle_operators)"
      ],
      "metadata": {
        "id": "qD1pFw_IF3yu"
      },
      "execution_count": 5,
      "outputs": []
    },
    {
      "cell_type": "code",
      "source": [
        "def toggle_xor(formula):\n",
        "    # The negation symbol to look for\n",
        "    and_symbol = \"⊕\"\n",
        "    or_symbol = \"∨\"\n",
        "\n",
        "    if and_symbol in formula and or_symbol in formula:\n",
        "      return formula.replace(and_symbol, ';').replace(or_symbol, and_symbol).replace(';',or_symbol)\n",
        "\n",
        "    elif and_symbol in formula:\n",
        "      return formula.replace(and_symbol, or_symbol)\n",
        "    elif or_symbol in formula:\n",
        "      return formula.replace(or_symbol, and_symbol)\n",
        "    else:\n",
        "      return formula\n",
        "\n",
        "# Swap or and xor symbols where available\n",
        "df['OrXor'] = df['premisesFOL'].apply(toggle_xor)"
      ],
      "metadata": {
        "id": "_Wpq0cGrHbgC"
      },
      "execution_count": 6,
      "outputs": []
    },
    {
      "cell_type": "markdown",
      "source": [
        "## Get predicates"
      ],
      "metadata": {
        "id": "u9QApr6F6_HZ"
      }
    },
    {
      "cell_type": "code",
      "source": [
        "def extract_predicates(fol_statement):\n",
        "    # Regular expression pattern to match predicates\n",
        "    pattern = r'\\b[A-Za-z][A-Za-z0-9]*\\([^()]*\\)'\n",
        "\n",
        "    # Find all predicate matches in the statement\n",
        "    predicates = re.findall(pattern, fol_statement)\n",
        "    generalized_predicates = []\n",
        "\n",
        "    for predicate in predicates:\n",
        "        # Split arguments on commas and strip spaces\n",
        "        args = predicate.split('(')[-1].split(')')[0].split(',')\n",
        "        args = [arg.strip() for arg in args]\n",
        "\n",
        "        # Replace each argument with a placeholder variable\n",
        "        if len(args)>3:\n",
        "          new_args = [chr(110 + i) for i in range(len(args))]\n",
        "        else:\n",
        "          new_args = [chr(120 + i) for i in range(len(args))]  # 120 is ASCII for 'x'\n",
        "\n",
        "        # Get predicate name (assuming predicate format is \"Name(args)\")\n",
        "        predicate_name = predicate.split('(')[0]\n",
        "\n",
        "        # Rebuild the predicate with new variable placeholders\n",
        "        new_predicate = f\"{predicate_name}({', '.join(new_args)})\"\n",
        "        generalized_predicates.append(new_predicate)\n",
        "\n",
        "    # Remove duplicates by converting the list to a set and then back to a list\n",
        "    unique_predicates = list(set(generalized_predicates))\n",
        "\n",
        "    if len(unique_predicates)==0:\n",
        "      return fol_statement\n",
        "\n",
        "    return f\"{'∨ '.join(unique_predicates)}\"\n",
        "\n",
        "# Get predicate values for each FOL nad join them using and and operator\n",
        "df['operator'] = df['premisesFOL'].apply(extract_predicates)"
      ],
      "metadata": {
        "id": "dRfXg7JW7Ak8"
      },
      "execution_count": 7,
      "outputs": []
    },
    {
      "cell_type": "markdown",
      "source": [
        "## Change Predicates"
      ],
      "metadata": {
        "id": "ulVyWA_9FB6N"
      }
    },
    {
      "cell_type": "code",
      "source": [
        "import re\n",
        "\n",
        "def change_predicates(formula):\n",
        "    # Define the pattern to match predicates with negation\n",
        "    pred_pattern = r'¬\\b[A-Za-z][A-Za-z0-9]*\\('\n",
        "\n",
        "    def replace_negation_with_not(match):\n",
        "        # Replace the negation symbol '¬' with 'Not'\n",
        "        return 'Not' + match.group(0)[1:]  # Skip the first character (¬) and prepend 'Not'\n",
        "\n",
        "    # Substitute the match with 'Not' + predicate\n",
        "    modified_sentence = re.sub(pred_pattern, replace_negation_with_not, formula)\n",
        "\n",
        "    return modified_sentence\n",
        "\n",
        "# change predicate to \"Not\"predicate where the not condition is present\n",
        "df['predicate'] = df['premisesFOL'].apply(change_predicates)"
      ],
      "metadata": {
        "id": "n3ojUOtQFBxC"
      },
      "execution_count": 8,
      "outputs": []
    },
    {
      "cell_type": "markdown",
      "source": [
        "## Remove all words"
      ],
      "metadata": {
        "id": "l5yCflIYEyeo"
      }
    },
    {
      "cell_type": "code",
      "source": [
        "def convert_to_unique_alphabets(expression):\n",
        "    # Create a list of unique alphabets\n",
        "    unique_alphabets = list(string.ascii_uppercase)\n",
        "\n",
        "    # Function to generate unique names\n",
        "    def unique_name(index):\n",
        "        return unique_alphabets[index]\n",
        "\n",
        "    # Define a regex pattern to identify variables and constants\n",
        "    pattern = r'\\b[a-zA-Z_]\\w*\\b'  # Matches variables and constants\n",
        "\n",
        "    # Find all variables and constants in the expression\n",
        "    matches = set(re.findall(pattern, expression))\n",
        "\n",
        "    # Remove any common variable names to avoid conflicts\n",
        "    if 'x' in matches:\n",
        "        matches.remove('x')\n",
        "    if 'y' in matches:\n",
        "        matches.remove('y')\n",
        "\n",
        "    # Generate a mapping of each variable/constant to a unique alphabet\n",
        "    name_mapping = {}\n",
        "    for i, item in enumerate(matches):\n",
        "        if i >= len(unique_alphabets):\n",
        "            raise ValueError(\"Too many unique identifiers needed.\")\n",
        "        name_mapping[item] = unique_name(i)\n",
        "\n",
        "    # Function to replace variables/constants with unique alphabet\n",
        "    def replace_match(match):\n",
        "        return name_mapping.get(match.group(0), match.group(0))\n",
        "\n",
        "    # Replace variables/constants in the expression\n",
        "    pattern = r'\\b[a-zA-Z_]\\w*\\b'\n",
        "    new_expression = re.sub(pattern, replace_match, expression)\n",
        "\n",
        "    return new_expression\n",
        "\n",
        "# Example usage\n",
        "original_expression = '∀x (Apartment(x) ∧ LiveIn(ava, x) ∧ ¬Cover(x, water) ∧ ¬Cover(x, electricity) ∧ ¬Cover(x, gas) ∧ ¬Cover(x, heating))'\n",
        "new_expression = convert_to_unique_alphabets(original_expression)\n",
        "print(new_expression)\n"
      ],
      "metadata": {
        "colab": {
          "base_uri": "https://localhost:8080/"
        },
        "id": "YBkmmxT9E0bd",
        "outputId": "99ad10a4-6e41-44f2-b195-c5cc1f535efa"
      },
      "execution_count": 9,
      "outputs": [
        {
          "output_type": "stream",
          "name": "stdout",
          "text": [
            "∀x (D(x) ∧ H(G, x) ∧ ¬F(x, C) ∧ ¬F(x, E) ∧ ¬F(x, B) ∧ ¬F(x, A))\n"
          ]
        }
      ]
    },
    {
      "cell_type": "code",
      "source": [
        "# Use generic predicate names\n",
        "df['variable'] = df['premisesFOL'].apply(convert_to_unique_alphabets)"
      ],
      "metadata": {
        "id": "qGQeOKQdE-aS"
      },
      "execution_count": 10,
      "outputs": []
    },
    {
      "cell_type": "code",
      "source": [
        "# Save the data\n",
        "df.to_json(\"perturbations.json\", orient='records', indent=4)"
      ],
      "metadata": {
        "id": "k0w1fenXyr6i"
      },
      "execution_count": 11,
      "outputs": []
    },
    {
      "cell_type": "markdown",
      "source": [
        "## Get Stats"
      ],
      "metadata": {
        "id": "3VYysk2W2W7E"
      }
    },
    {
      "cell_type": "code",
      "source": [
        "df.columns"
      ],
      "metadata": {
        "colab": {
          "base_uri": "https://localhost:8080/"
        },
        "id": "9vIQGhF4zdW2",
        "outputId": "5369e4e6-11eb-4e66-bc62-6cd5663df248"
      },
      "execution_count": 12,
      "outputs": [
        {
          "output_type": "execute_result",
          "data": {
            "text/plain": [
              "Index(['premisesFOL', 'premisesNL', 'operators', 'count', 'quantifier',\n",
              "       'negation', 'AndOr', 'OrXor', 'operator', 'predicate', 'variable'],\n",
              "      dtype='object')"
            ]
          },
          "metadata": {},
          "execution_count": 12
        }
      ]
    },
    {
      "cell_type": "code",
      "source": [
        "for column in ['quantifier', 'negation', 'AndOr', 'OrXor', 'operator', 'predicate', 'variable']:\n",
        "    match_count = df.apply(lambda x: 1 if x['premisesFOL'] == x[column] else 0, axis=1).sum()\n",
        "    match_percentage = (1-match_count / len(df)) * 100\n",
        "    print(f'{column}: {round(match_percentage,2)}')\n"
      ],
      "metadata": {
        "colab": {
          "base_uri": "https://localhost:8080/"
        },
        "id": "4UmDuqU_zbZP",
        "outputId": "ffb57ce5-51e5-4ab0-9cf6-85edfd923a74"
      },
      "execution_count": 13,
      "outputs": [
        {
          "output_type": "stream",
          "name": "stdout",
          "text": [
            "quantifier: 69.9\n",
            "negation: 99.03\n",
            "AndOr: 59.22\n",
            "OrXor: 32.04\n",
            "operator: 98.06\n",
            "predicate: 22.33\n",
            "variable: 100.0\n"
          ]
        }
      ]
    }
  ]
}