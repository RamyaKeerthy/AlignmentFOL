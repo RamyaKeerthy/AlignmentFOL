{
  "nbformat": 4,
  "nbformat_minor": 0,
  "metadata": {
    "colab": {
      "provenance": [],
      "toc_visible": true
    },
    "kernelspec": {
      "name": "python3",
      "display_name": "Python 3"
    },
    "language_info": {
      "name": "python"
    }
  },
  "cells": [
    {
      "cell_type": "markdown",
      "source": [
        "# Extract Sensitivity Dataset"
      ],
      "metadata": {
        "id": "wm0t93mrpPyl"
      }
    },
    {
      "cell_type": "code",
      "source": [
        "!pip install datasets\n",
        "!pip install huggingface_hub"
      ],
      "metadata": {
        "id": "WA770IoyotAV"
      },
      "execution_count": null,
      "outputs": []
    },
    {
      "cell_type": "code",
      "execution_count": 2,
      "metadata": {
        "id": "3PwFJc4-jCBj"
      },
      "outputs": [],
      "source": [
        "import json\n",
        "import random\n",
        "import pandas as pd\n",
        "import numpy as np\n",
        "import re\n",
        "from datasets import load_dataset"
      ]
    },
    {
      "cell_type": "code",
      "source": [
        "from huggingface_hub import login\n",
        "\n",
        "# Replace 'your_api_token_here' with your actual Hugging Face API token\n",
        "login(token=\"your_api_token_here\")"
      ],
      "metadata": {
        "id": "ARhsaoEsmahV"
      },
      "execution_count": null,
      "outputs": []
    },
    {
      "cell_type": "markdown",
      "source": [
        "## Load FOLIO"
      ],
      "metadata": {
        "id": "UsaA7fZ9nk20"
      }
    },
    {
      "cell_type": "code",
      "source": [
        "# Load the dataset\n",
        "dataset = load_dataset(\"yale-nlp/FOLIO\")\n",
        "\n",
        "# Convert the train split to a DataFrame\n",
        "train_df = dataset[\"train\"].to_pandas()\n",
        "\n",
        "# Convert the test split to a DataFrame\n",
        "test_df = dataset[\"validation\"].to_pandas()"
      ],
      "metadata": {
        "id": "uMAZLvnYjE5n"
      },
      "execution_count": null,
      "outputs": []
    },
    {
      "cell_type": "code",
      "source": [
        "print(f'Train: {len(train_df)}')\n",
        "print(f'Test: {len(test_df)}')"
      ],
      "metadata": {
        "colab": {
          "base_uri": "https://localhost:8080/"
        },
        "id": "EfLfTCKRneYq",
        "outputId": "c373092c-0c74-4257-c4d5-90c90d7fe433"
      },
      "execution_count": 5,
      "outputs": [
        {
          "output_type": "stream",
          "name": "stdout",
          "text": [
            "Train: 1001\n",
            "Test: 203\n"
          ]
        }
      ]
    },
    {
      "cell_type": "markdown",
      "source": [
        "## Sample extraction\n",
        "\n",
        "*   Get unique records\n",
        "*   Use only Premise FOL since these are the generation records. Conclusion FOL have inconsistent predicates.\n",
        "*   Test on training data only as we aim to build an evaluation system that can identify the changes in FOL\n",
        "\n"
      ],
      "metadata": {
        "id": "YiiRua9aoOgc"
      }
    },
    {
      "cell_type": "code",
      "source": [
        "# Get unique records\n",
        "train_df.drop_duplicates(subset='story_id', inplace=True)"
      ],
      "metadata": {
        "id": "9fpiWI99nntq"
      },
      "execution_count": 6,
      "outputs": []
    },
    {
      "cell_type": "code",
      "source": [
        "# Split NL and FOL\n",
        "train_df['premisesFOL'] = train_df['premises-FOL'].apply(lambda x: x.strip('\\n').split('\\n'))\n",
        "train_df['premisesNL'] = train_df['premises'].apply(lambda x: x.strip('\\n').strip().split('\\n'))\n",
        "train_df['premisesFOL_count'] = train_df['premisesFOL'].apply(lambda x: len(x))\n",
        "train_df['premisesNL_count'] = train_df['premisesNL'].apply(lambda x: len(x))"
      ],
      "metadata": {
        "id": "w2oVRXhRpCbg"
      },
      "execution_count": 7,
      "outputs": []
    },
    {
      "cell_type": "code",
      "source": [
        "# Verify correctness\n",
        "train_df[train_df['premisesFOL_count']!=train_df['premisesNL_count']]"
      ],
      "metadata": {
        "colab": {
          "base_uri": "https://localhost:8080/",
          "height": 85
        },
        "id": "D70YZOnStK8z",
        "outputId": "f789f7e2-cf09-495a-89d4-0de005e82e6c"
      },
      "execution_count": 8,
      "outputs": [
        {
          "output_type": "execute_result",
          "data": {
            "text/plain": [
              "Empty DataFrame\n",
              "Columns: [story_id, premises, premises-FOL, conclusion, conclusion-FOL, label, example_id, premisesFOL, premisesNL, premisesFOL_count, premisesNL_count]\n",
              "Index: []"
            ],
            "text/html": [
              "\n",
              "  <div id=\"df-47984fe4-e328-4099-9be3-3b106352384d\" class=\"colab-df-container\">\n",
              "    <div>\n",
              "<style scoped>\n",
              "    .dataframe tbody tr th:only-of-type {\n",
              "        vertical-align: middle;\n",
              "    }\n",
              "\n",
              "    .dataframe tbody tr th {\n",
              "        vertical-align: top;\n",
              "    }\n",
              "\n",
              "    .dataframe thead th {\n",
              "        text-align: right;\n",
              "    }\n",
              "</style>\n",
              "<table border=\"1\" class=\"dataframe\">\n",
              "  <thead>\n",
              "    <tr style=\"text-align: right;\">\n",
              "      <th></th>\n",
              "      <th>story_id</th>\n",
              "      <th>premises</th>\n",
              "      <th>premises-FOL</th>\n",
              "      <th>conclusion</th>\n",
              "      <th>conclusion-FOL</th>\n",
              "      <th>label</th>\n",
              "      <th>example_id</th>\n",
              "      <th>premisesFOL</th>\n",
              "      <th>premisesNL</th>\n",
              "      <th>premisesFOL_count</th>\n",
              "      <th>premisesNL_count</th>\n",
              "    </tr>\n",
              "  </thead>\n",
              "  <tbody>\n",
              "  </tbody>\n",
              "</table>\n",
              "</div>\n",
              "    <div class=\"colab-df-buttons\">\n",
              "\n",
              "  <div class=\"colab-df-container\">\n",
              "    <button class=\"colab-df-convert\" onclick=\"convertToInteractive('df-47984fe4-e328-4099-9be3-3b106352384d')\"\n",
              "            title=\"Convert this dataframe to an interactive table.\"\n",
              "            style=\"display:none;\">\n",
              "\n",
              "  <svg xmlns=\"http://www.w3.org/2000/svg\" height=\"24px\" viewBox=\"0 -960 960 960\">\n",
              "    <path d=\"M120-120v-720h720v720H120Zm60-500h600v-160H180v160Zm220 220h160v-160H400v160Zm0 220h160v-160H400v160ZM180-400h160v-160H180v160Zm440 0h160v-160H620v160ZM180-180h160v-160H180v160Zm440 0h160v-160H620v160Z\"/>\n",
              "  </svg>\n",
              "    </button>\n",
              "\n",
              "  <style>\n",
              "    .colab-df-container {\n",
              "      display:flex;\n",
              "      gap: 12px;\n",
              "    }\n",
              "\n",
              "    .colab-df-convert {\n",
              "      background-color: #E8F0FE;\n",
              "      border: none;\n",
              "      border-radius: 50%;\n",
              "      cursor: pointer;\n",
              "      display: none;\n",
              "      fill: #1967D2;\n",
              "      height: 32px;\n",
              "      padding: 0 0 0 0;\n",
              "      width: 32px;\n",
              "    }\n",
              "\n",
              "    .colab-df-convert:hover {\n",
              "      background-color: #E2EBFA;\n",
              "      box-shadow: 0px 1px 2px rgba(60, 64, 67, 0.3), 0px 1px 3px 1px rgba(60, 64, 67, 0.15);\n",
              "      fill: #174EA6;\n",
              "    }\n",
              "\n",
              "    .colab-df-buttons div {\n",
              "      margin-bottom: 4px;\n",
              "    }\n",
              "\n",
              "    [theme=dark] .colab-df-convert {\n",
              "      background-color: #3B4455;\n",
              "      fill: #D2E3FC;\n",
              "    }\n",
              "\n",
              "    [theme=dark] .colab-df-convert:hover {\n",
              "      background-color: #434B5C;\n",
              "      box-shadow: 0px 1px 3px 1px rgba(0, 0, 0, 0.15);\n",
              "      filter: drop-shadow(0px 1px 2px rgba(0, 0, 0, 0.3));\n",
              "      fill: #FFFFFF;\n",
              "    }\n",
              "  </style>\n",
              "\n",
              "    <script>\n",
              "      const buttonEl =\n",
              "        document.querySelector('#df-47984fe4-e328-4099-9be3-3b106352384d button.colab-df-convert');\n",
              "      buttonEl.style.display =\n",
              "        google.colab.kernel.accessAllowed ? 'block' : 'none';\n",
              "\n",
              "      async function convertToInteractive(key) {\n",
              "        const element = document.querySelector('#df-47984fe4-e328-4099-9be3-3b106352384d');\n",
              "        const dataTable =\n",
              "          await google.colab.kernel.invokeFunction('convertToInteractive',\n",
              "                                                    [key], {});\n",
              "        if (!dataTable) return;\n",
              "\n",
              "        const docLinkHtml = 'Like what you see? Visit the ' +\n",
              "          '<a target=\"_blank\" href=https://colab.research.google.com/notebooks/data_table.ipynb>data table notebook</a>'\n",
              "          + ' to learn more about interactive tables.';\n",
              "        element.innerHTML = '';\n",
              "        dataTable['output_type'] = 'display_data';\n",
              "        await google.colab.output.renderOutput(dataTable, element);\n",
              "        const docLink = document.createElement('div');\n",
              "        docLink.innerHTML = docLinkHtml;\n",
              "        element.appendChild(docLink);\n",
              "      }\n",
              "    </script>\n",
              "  </div>\n",
              "\n",
              "\n",
              "    </div>\n",
              "  </div>\n"
            ],
            "application/vnd.google.colaboratory.intrinsic+json": {
              "type": "dataframe",
              "repr_error": "Out of range float values are not JSON compliant: nan"
            }
          },
          "metadata": {},
          "execution_count": 8
        }
      ]
    },
    {
      "cell_type": "code",
      "source": [
        "def count_operators(fol):\n",
        "  # Define the regex pattern for operators\n",
        "  pattern = r'[∧∨¬→↔∀∃=⊕]'\n",
        "\n",
        "  # Find all matches of operators\n",
        "  matches = re.findall(pattern, fol)\n",
        "\n",
        "  # Count the number of operators\n",
        "  num_operators = len(set(matches))\n",
        "  return num_operators"
      ],
      "metadata": {
        "id": "YyRPAz_3q-Ka"
      },
      "execution_count": 9,
      "outputs": []
    },
    {
      "cell_type": "code",
      "source": [
        "def get_operators(fol):\n",
        "  # Define the regex pattern for operators\n",
        "  pattern = r'[∧∨¬→↔∀∃=⊕]'\n",
        "\n",
        "  # Find all matches of operators\n",
        "  matches = re.findall(pattern, fol)\n",
        "\n",
        "  # Count the number of operators\n",
        "  operators = set(matches)\n",
        "  return operators"
      ],
      "metadata": {
        "id": "qbigku1GtOCR"
      },
      "execution_count": 10,
      "outputs": []
    },
    {
      "cell_type": "code",
      "source": [
        "# Operator check at passage level\n",
        "train_df['num_operators'] = train_df['premises-FOL'].apply(count_operators)\n",
        "train_df['operators'] = train_df['premises-FOL'].apply(get_operators)"
      ],
      "metadata": {
        "id": "PzTXVVmCrPnE"
      },
      "execution_count": 11,
      "outputs": []
    },
    {
      "cell_type": "code",
      "source": [
        "# Extract unique operator FOLs\n",
        "train_df.drop_duplicates(subset='operators', inplace=True)"
      ],
      "metadata": {
        "id": "4QQ4Sf9b1eqV"
      },
      "execution_count": 12,
      "outputs": []
    },
    {
      "cell_type": "code",
      "source": [
        "# Convert to individual statements\n",
        "df_expanded = train_df[['premisesFOL', 'premisesNL']].apply(pd.Series.explode)\n",
        "print(f'Data size: {len(df_expanded)}')"
      ],
      "metadata": {
        "id": "Tcd8Gpk71hYW",
        "colab": {
          "base_uri": "https://localhost:8080/"
        },
        "outputId": "085ba85d-ff6f-44b3-ec9a-92c8bab05792"
      },
      "execution_count": 13,
      "outputs": [
        {
          "output_type": "stream",
          "name": "stdout",
          "text": [
            "Data size: 225\n"
          ]
        }
      ]
    },
    {
      "cell_type": "code",
      "source": [
        "# Operator check at sentence level\n",
        "df_expanded['operators'] = df_expanded['premisesFOL'].apply(get_operators)\n",
        "print(f'Unique operators: {len(df_expanded.drop_duplicates(subset=\"operators\"))}')"
      ],
      "metadata": {
        "id": "dUoWTB6v2LDs",
        "colab": {
          "base_uri": "https://localhost:8080/"
        },
        "outputId": "1456de77-a011-49db-f241-5fe37ed0abf5"
      },
      "execution_count": 14,
      "outputs": [
        {
          "output_type": "stream",
          "name": "stdout",
          "text": [
            "Unique operators: 52\n"
          ]
        }
      ]
    },
    {
      "cell_type": "code",
      "source": [
        "# Convert sets to frozensets for grouping\n",
        "df_expanded['unique_ops'] = df_expanded['operators'].apply(frozenset)\n",
        "\n",
        "# Set the maximum number of duplicates to keep\n",
        "max_dups = 4\n",
        "\n",
        "# Use groupby and cumcount to filter out rows with more than `max_dups` occurrences\n",
        "df_limited_dups = df_expanded[df_expanded.groupby('unique_ops').cumcount() < max_dups]\n",
        "\n",
        "# Drop the frozenset column used for grouping\n",
        "df_result = df_limited_dups.drop(columns=['unique_ops'])\n",
        "\n",
        "print(f'Final data size: {len(df_result)}')"
      ],
      "metadata": {
        "id": "nNb9qWjd2kKU",
        "colab": {
          "base_uri": "https://localhost:8080/"
        },
        "outputId": "a0c2c574-e4b8-4b41-d265-c32b50ac6845"
      },
      "execution_count": 15,
      "outputs": [
        {
          "output_type": "stream",
          "name": "stdout",
          "text": [
            "Final data size: 103\n"
          ]
        }
      ]
    },
    {
      "cell_type": "code",
      "source": [
        "df_result['count'] = df_result['operators'].apply(len)"
      ],
      "metadata": {
        "id": "kmMRxzkF4ZZ1"
      },
      "execution_count": 16,
      "outputs": []
    },
    {
      "cell_type": "code",
      "source": [
        "from matplotlib import pyplot as plt\n",
        "# Plotting the occurence of operators\n",
        "plt.figure(figsize=(10, 6))\n",
        "plt.hist(df_result['count'], bins=20, edgecolor='black')\n",
        "plt.title('Frequency of operator count')\n",
        "plt.xlabel('Count')\n",
        "plt.ylabel('Frequency')\n",
        "plt.grid(axis='y', linestyle='--', alpha=0.7)\n",
        "plt.show()"
      ],
      "metadata": {
        "colab": {
          "base_uri": "https://localhost:8080/",
          "height": 585
        },
        "id": "YFiW1t4ZsYDc",
        "outputId": "ecd79486-da98-49b6-9684-81441c6f81a8"
      },
      "execution_count": 17,
      "outputs": [
        {
          "output_type": "display_data",
          "data": {
            "text/plain": [
              "<Figure size 1000x600 with 1 Axes>"
            ],
            "image/png": "[encoded data removed]"
          },
          "metadata": {}
        }
      ]
    },
    {
      "cell_type": "code",
      "source": [
        "# Save dataset\n",
        "\n",
        "df_result.reset_index(drop=True, inplace=True)\n",
        "\n",
        "df_result.to_json(\"sensitivity.json\", orient=\"records\", indent=4)"
      ],
      "metadata": {
        "id": "AWoPFVbO9eLg"
      },
      "execution_count": 18,
      "outputs": []
    }
  ]
}