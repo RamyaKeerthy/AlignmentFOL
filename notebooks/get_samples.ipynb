{
  "nbformat": 4,
  "nbformat_minor": 0,
  "metadata": {
    "colab": {
      "provenance": [],
      "toc_visible": true
    },
    "kernelspec": {
      "name": "python3",
      "display_name": "Python 3"
    },
    "language_info": {
      "name": "python"
    }
  },
  "cells": [
    {
      "cell_type": "code",
      "source": [
        "!pip install openai"
      ],
      "metadata": {
        "id": "vSsJEEYzSkeW"
      },
      "execution_count": null,
      "outputs": []
    },
    {
      "cell_type": "code",
      "execution_count": null,
      "metadata": {
        "id": "3PwFJc4-jCBj"
      },
      "outputs": [],
      "source": [
        "import json\n",
        "from tqdm import tqdm\n",
        "import random\n",
        "import pandas as pd\n",
        "import numpy as np\n",
        "import re"
      ]
    },
    {
      "cell_type": "code",
      "source": [
        "from openai import OpenAI\n",
        "client = OpenAI(api_key=\"your_api_key\")"
      ],
      "metadata": {
        "id": "oyPLauEbSrIn"
      },
      "execution_count": null,
      "outputs": []
    },
    {
      "cell_type": "markdown",
      "source": [
        "# GPT Batch Generation"
      ],
      "metadata": {
        "id": "SC22j_CJcQEf"
      }
    },
    {
      "cell_type": "code",
      "source": [
        "df = pd.read_json(\"sensitivity.json\")"
      ],
      "metadata": {
        "id": "v7PS_BscdrRx"
      },
      "execution_count": null,
      "outputs": []
    },
    {
      "cell_type": "code",
      "source": [
        "df['id'] = 'FOLIO_train_' + df.index.astype(str)"
      ],
      "metadata": {
        "id": "Nzhu9XHReO6o"
      },
      "execution_count": null,
      "outputs": []
    },
    {
      "cell_type": "code",
      "source": [
        "# Few-shot prompt used to generate samples\n",
        "fs_prompt = \"\"\"Given a natural language sentence, your task is to convert the sentence into first-order logic statements using the following operators '∧','∨','¬','→','↔','∀','∃','=','⊕'. The output is a single first-order statement representing the sentence with no additional tasks. Generate 3 different samples of output.\n",
        "Text: [[TEXT]]\n",
        "Output: \"\"\""
      ],
      "metadata": {
        "id": "EmsmhDQC4hES"
      },
      "execution_count": null,
      "outputs": []
    },
    {
      "cell_type": "code",
      "source": [
        "# Function to create JSONL file for Chat Completions API\n",
        "def create_jsonl_for_chat(df, output_file):\n",
        "    with open(output_file, 'w') as file:\n",
        "        for _, row in df.iterrows():\n",
        "            context = row['premisesNL'].strip()\n",
        "            full_prompt = fs_prompt.replace(\"[[TEXT]]\", context)\n",
        "            json_line = {\n",
        "                \"custom_id\": f\"request-{row['id']}\",\n",
        "                \"method\": \"POST\",\n",
        "                \"url\": \"/v1/chat/completions\",\n",
        "                \"body\": {\n",
        "                    \"model\": \"gpt-4o\",\n",
        "                    \"messages\": [{\"role\": \"user\", \"content\": full_prompt}],\n",
        "                    \"max_tokens\": 256\n",
        "                }\n",
        "            }\n",
        "            file.write(json.dumps(json_line) + '\\n')\n",
        "\n",
        "# Usage\n",
        "create_jsonl_for_chat(df, 'sensitivity.jsonl')\n"
      ],
      "metadata": {
        "id": "i0z6EOQwdmY3"
      },
      "execution_count": null,
      "outputs": []
    },
    {
      "cell_type": "code",
      "source": [
        "batch_input_file = client.files.create(\n",
        "  file=open(\"sensitivity.jsonl\", \"rb\"),\n",
        "  purpose=\"batch\"\n",
        ")\n",
        "batch_input_file_id = batch_input_file.id"
      ],
      "metadata": {
        "id": "H03FmOYKfIEi"
      },
      "execution_count": null,
      "outputs": []
    },
    {
      "cell_type": "code",
      "source": [
        "client.batches.create(\n",
        "    input_file_id=batch_input_file_id,\n",
        "    endpoint=\"/v1/chat/completions\",\n",
        "    completion_window=\"24h\",\n",
        "    metadata={\n",
        "      \"description\": \"FOL generations with 3 generations at a time\"\n",
        "    }\n",
        ")"
      ],
      "metadata": {
        "id": "CBrH9du3fYI4"
      },
      "execution_count": null,
      "outputs": []
    },
    {
      "cell_type": "code",
      "source": [
        "client.batches.retrieve(\"batch_id\")"
      ],
      "metadata": {
        "id": "uwKVkf-LrcSK"
      },
      "execution_count": null,
      "outputs": []
    },
    {
      "cell_type": "code",
      "source": [
        "content = client.files.content(\"output_file\")"
      ],
      "metadata": {
        "id": "A0ieR8rSrkax"
      },
      "execution_count": null,
      "outputs": []
    },
    {
      "cell_type": "code",
      "source": [
        "content_bytes = content.read()\n",
        "with open(\"output.jsonl\", \"wb\") as file:\n",
        "    file.write(content_bytes)"
      ],
      "metadata": {
        "id": "bp6XVqoYrs6N"
      },
      "execution_count": null,
      "outputs": []
    },
    {
      "cell_type": "code",
      "source": [
        "gpt_op = {}\n",
        "with open('output.jsonl', 'r') as file:\n",
        "  # Parse each line as JSON\n",
        "  for line in file:\n",
        "      data = json.loads(line)\n",
        "      # Now 'data' contains the parsed JSON object for each line\n",
        "      gpt_op[data['custom_id']] = data['response']['body']['choices'][0]['message']['content']"
      ],
      "metadata": {
        "id": "Ss3-mfbLrxhZ"
      },
      "execution_count": null,
      "outputs": []
    },
    {
      "cell_type": "code",
      "source": [
        "df_logic = pd.DataFrame(list(gpt_op.items()), columns=['id', 'logic_program'])"
      ],
      "metadata": {
        "id": "-5s2FhPSsBt_"
      },
      "execution_count": null,
      "outputs": []
    },
    {
      "cell_type": "code",
      "source": [
        "df_logic['id'] = df_logic['id'].apply(lambda x: x.split('-')[-1].strip())"
      ],
      "metadata": {
        "id": "h_E7chyasbJi"
      },
      "execution_count": null,
      "outputs": []
    },
    {
      "cell_type": "code",
      "source": [
        "df_gpt = pd.merge(df, df_logic, on='id')"
      ],
      "metadata": {
        "id": "VzWvl1Krx5Pb"
      },
      "execution_count": null,
      "outputs": []
    },
    {
      "cell_type": "code",
      "source": [
        "def split_logic(fol):\n",
        "  patterns = [\"1. \", \"2. \", \"3. \"]\n",
        "  # Split the text by the patterns\n",
        "  parts = []\n",
        "  for i, pattern in enumerate(patterns):\n",
        "      # Find the start index of the current part\n",
        "      start = fol.find(pattern)\n",
        "      if i < len(patterns) - 1:\n",
        "          # Find the start index of the next part\n",
        "          end = fol.find(patterns[i + 1])\n",
        "          parts.append(fol[start + len(pattern):end].strip())\n",
        "      else:\n",
        "          # Last part goes until the end of the text\n",
        "          parts.append(fol[start + len(pattern):].strip())\n",
        "  return parts"
      ],
      "metadata": {
        "id": "Z_PZD8ctyFNb"
      },
      "execution_count": null,
      "outputs": []
    },
    {
      "cell_type": "code",
      "source": [
        "df_gpt['sample1'] = df_gpt['logic_program'].apply(lambda x: x.split('2.')[0].split('1. ')[-1].strip())\n",
        "df_gpt['sample2'] = df_gpt['logic_program'].apply(lambda x: x.split('3.')[0].split('2. ')[-1].strip())\n",
        "df_gpt['sample3'] = df_gpt['logic_program'].apply(lambda x: x.split('3.')[-1].strip())"
      ],
      "metadata": {
        "id": "iavMGq5wzRGz"
      },
      "execution_count": null,
      "outputs": []
    },
    {
      "cell_type": "code",
      "source": [
        "df_gpt.to_json(\"gpt_fol_samples.json\", orient=\"records\",indent=4)"
      ],
      "metadata": {
        "id": "jGbD6OOX1xB3"
      },
      "execution_count": null,
      "outputs": []
    }
  ]
}